{
 "cells": [
  {
   "cell_type": "markdown",
   "id": "6be8067d",
   "metadata": {},
   "source": [
    "# LSTM (Long - Short Memory) ile Hİsse Senedi Fiyat Tahminlemesi."
   ]
  },
  {
   "cell_type": "raw",
   "id": "c4658cad",
   "metadata": {},
   "source": [
    "1) İş problemi\n",
    "\n",
    "2) Veriyi Anlama \n",
    "\n",
    "3) Variyi Hazırlama\n",
    "\n",
    "4) Modelleme\n",
    "\n",
    "5) Değerlendirme"
   ]
  },
  {
   "cell_type": "markdown",
   "id": "1376b4b4",
   "metadata": {},
   "source": [
    "# 1) İş problemi;"
   ]
  },
  {
   "cell_type": "raw",
   "id": "94d8e9a1",
   "metadata": {},
   "source": [
    "# Düşündüğüm proje şu teslanın borsada geçmiş zamandaki verileri.\n",
    "# Bu geçmiş verileri kullanarak teslanın gelecek yılardaki hisse fiyatına yönelik çıkarımlarda bulunmaya çalışaçağım."
   ]
  },
  {
   "cell_type": "raw",
   "id": "12031884",
   "metadata": {},
   "source": [
    "1) Veri setini anlamaya çalışalım.\n",
    "\n",
    "Date: İlgili işlem gününün tarihini temsil etmektedir.\n",
    "Open: ilgili işlem gününe ait başlangıç fiyatını temsil etmektedir. \n",
    "High: İlgili işlem gününe ait en yüksek fiyatı temsil etmektedir.\n",
    "Low: İlgili işlem gününe ait en düşük fiyatı temsil etmektedir.\n",
    "Close: ilgili işlem gününde hisse senedinin kapanış fiyatını temsil etmektedir.\n",
    "Adj Close: İlgili işlem gününde ait hisse senedinin düzeltilmiş kapanıç fiyatını temsil etmektedir.\n",
    "Volume: İlgili işlem gününe ait işlem hacim bilgisini temsil etmektedir.    "
   ]
  },
  {
   "cell_type": "markdown",
   "id": "ff461147",
   "metadata": {},
   "source": [
    "# 2) Veriyi anlama;"
   ]
  },
  {
   "cell_type": "raw",
   "id": "22f6394c",
   "metadata": {},
   "source": [
    "# gerekli kütüpaneleri import ederek başlayalım."
   ]
  },
  {
   "cell_type": "code",
   "execution_count": 87,
   "id": "1d9f9c07",
   "metadata": {},
   "outputs": [],
   "source": [
    "# Veriyi okuma ve işleme adımında kullanılacak olan kütüpaneler\n",
    "import numpy as np\n",
    "import pandas as pd\n",
    "import tensorflow as tf\n",
    "import matplotlib.pylab as plt\n",
    "\n",
    "# Model değerlendirme ve veriyi scale edebilmeniz için kullanılacak olan kütüpaneler\n",
    "from sklearn.preprocessing import MinMaxScaler\n",
    "from sklearn.metrics import mean_squared_error\n",
    "\n",
    "# Model için kullanılacak olan kütüpaneler\n",
    "from tensorflow.keras.models import Sequential\n",
    "from tensorflow.keras.layers import Dense, LSTM, Dropout\n",
    "from tensorflow.keras.callbacks import ModelCheckpoint, EarlyStopping\n",
    "\n",
    "# Warninleri kapatmak için yapılan işlemler.\n",
    "import warnings\n",
    "warnings.filterwarnings('ignore')\n",
    "\n",
    "# tensorflow çalıştığında gelen uyarıları engelleme.\n",
    "import os\n",
    "os.environ['TF_CPP_MİN_LOG_LEVEL'] = '3'\n",
    "tf.compat.v1.logging.set_verbosity(tf.compat.v1.logging.ERROR)"
   ]
  },
  {
   "cell_type": "code",
   "execution_count": 3,
   "id": "4a4bf911",
   "metadata": {},
   "outputs": [],
   "source": [
    "# Verisetinin okunması işlemini yapıyorum.\n",
    "\n",
    "df = pd.read_csv(\"TSLA.csv\")"
   ]
  },
  {
   "cell_type": "code",
   "execution_count": 4,
   "id": "cedd6eb5",
   "metadata": {},
   "outputs": [
    {
     "data": {
      "text/html": [
       "<div>\n",
       "<style scoped>\n",
       "    .dataframe tbody tr th:only-of-type {\n",
       "        vertical-align: middle;\n",
       "    }\n",
       "\n",
       "    .dataframe tbody tr th {\n",
       "        vertical-align: top;\n",
       "    }\n",
       "\n",
       "    .dataframe thead th {\n",
       "        text-align: right;\n",
       "    }\n",
       "</style>\n",
       "<table border=\"1\" class=\"dataframe\">\n",
       "  <thead>\n",
       "    <tr style=\"text-align: right;\">\n",
       "      <th></th>\n",
       "      <th>Date</th>\n",
       "      <th>Open</th>\n",
       "      <th>High</th>\n",
       "      <th>Low</th>\n",
       "      <th>Close</th>\n",
       "      <th>Adj Close</th>\n",
       "      <th>Volume</th>\n",
       "    </tr>\n",
       "  </thead>\n",
       "  <tbody>\n",
       "    <tr>\n",
       "      <th>0</th>\n",
       "      <td>2010-06-29</td>\n",
       "      <td>19.000000</td>\n",
       "      <td>25.00</td>\n",
       "      <td>17.540001</td>\n",
       "      <td>23.889999</td>\n",
       "      <td>23.889999</td>\n",
       "      <td>18766300</td>\n",
       "    </tr>\n",
       "    <tr>\n",
       "      <th>1</th>\n",
       "      <td>2010-06-30</td>\n",
       "      <td>25.790001</td>\n",
       "      <td>30.42</td>\n",
       "      <td>23.299999</td>\n",
       "      <td>23.830000</td>\n",
       "      <td>23.830000</td>\n",
       "      <td>17187100</td>\n",
       "    </tr>\n",
       "    <tr>\n",
       "      <th>2</th>\n",
       "      <td>2010-07-01</td>\n",
       "      <td>25.000000</td>\n",
       "      <td>25.92</td>\n",
       "      <td>20.270000</td>\n",
       "      <td>21.959999</td>\n",
       "      <td>21.959999</td>\n",
       "      <td>8218800</td>\n",
       "    </tr>\n",
       "    <tr>\n",
       "      <th>3</th>\n",
       "      <td>2010-07-02</td>\n",
       "      <td>23.000000</td>\n",
       "      <td>23.10</td>\n",
       "      <td>18.709999</td>\n",
       "      <td>19.200001</td>\n",
       "      <td>19.200001</td>\n",
       "      <td>5139800</td>\n",
       "    </tr>\n",
       "    <tr>\n",
       "      <th>4</th>\n",
       "      <td>2010-07-06</td>\n",
       "      <td>20.000000</td>\n",
       "      <td>20.00</td>\n",
       "      <td>15.830000</td>\n",
       "      <td>16.110001</td>\n",
       "      <td>16.110001</td>\n",
       "      <td>6866900</td>\n",
       "    </tr>\n",
       "  </tbody>\n",
       "</table>\n",
       "</div>"
      ],
      "text/plain": [
       "         Date       Open   High        Low      Close  Adj Close    Volume\n",
       "0  2010-06-29  19.000000  25.00  17.540001  23.889999  23.889999  18766300\n",
       "1  2010-06-30  25.790001  30.42  23.299999  23.830000  23.830000  17187100\n",
       "2  2010-07-01  25.000000  25.92  20.270000  21.959999  21.959999   8218800\n",
       "3  2010-07-02  23.000000  23.10  18.709999  19.200001  19.200001   5139800\n",
       "4  2010-07-06  20.000000  20.00  15.830000  16.110001  16.110001   6866900"
      ]
     },
     "execution_count": 4,
     "metadata": {},
     "output_type": "execute_result"
    }
   ],
   "source": [
    "# Veriyi anlama adına ilk beş basamağına bakıyorum.\n",
    "\n",
    "df.head()"
   ]
  },
  {
   "cell_type": "code",
   "execution_count": 5,
   "id": "2da29598",
   "metadata": {},
   "outputs": [],
   "source": [
    "def check_df(dataframe, head=5):\n",
    "    print(\"------------- Shape -------------\")\n",
    "    print(dataframe.shape)\n",
    "    print(\"------------- Types -------------\")\n",
    "    print(dataframe.dtypes)\n",
    "    print(\"------------- Head -------------\")\n",
    "    print(dataframe.head(head))\n",
    "    print(\"------------- Tail -------------\")\n",
    "    print(dataframe.tail(head))\n",
    "    print(\"------------- Na -------------\")\n",
    "    print(dataframe.isnull().sum())\n",
    "    print(\"------------- Quantiles -------------\")\n",
    "    \n",
    "    # Sadece sayısal sütunları seç\n",
    "    numeric_df = dataframe.select_dtypes(include=['number'])\n",
    "    print(numeric_df.quantile([0, 0.05, 0.50, 0.95, 0.99, 1]).T) #BURASI TYPE ERORR VEREBİLİR ÇÜNKİ QUANTİLES SADECE SAYISAL DEĞER OKUR."
   ]
  },
  {
   "cell_type": "code",
   "execution_count": 8,
   "id": "ff70457e",
   "metadata": {},
   "outputs": [
    {
     "name": "stdout",
     "output_type": "stream",
     "text": [
      "------------- Shape -------------\n",
      "(2416, 7)\n",
      "------------- Types -------------\n",
      "Date          object\n",
      "Open         float64\n",
      "High         float64\n",
      "Low          float64\n",
      "Close        float64\n",
      "Adj Close    float64\n",
      "Volume         int64\n",
      "dtype: object\n",
      "------------- Head -------------\n",
      "         Date       Open   High        Low      Close  Adj Close    Volume\n",
      "0  2010-06-29  19.000000  25.00  17.540001  23.889999  23.889999  18766300\n",
      "1  2010-06-30  25.790001  30.42  23.299999  23.830000  23.830000  17187100\n",
      "2  2010-07-01  25.000000  25.92  20.270000  21.959999  21.959999   8218800\n",
      "3  2010-07-02  23.000000  23.10  18.709999  19.200001  19.200001   5139800\n",
      "4  2010-07-06  20.000000  20.00  15.830000  16.110001  16.110001   6866900\n",
      "------------- Tail -------------\n",
      "            Date        Open        High         Low       Close   Adj Close  \\\n",
      "2411  2020-01-28  568.489990  576.809998  558.080017  566.900024  566.900024   \n",
      "2412  2020-01-29  575.690002  589.799988  567.429993  580.989990  580.989990   \n",
      "2413  2020-01-30  632.419983  650.880005  618.000000  640.809998  640.809998   \n",
      "2414  2020-01-31  640.000000  653.000000  632.520020  650.570007  650.570007   \n",
      "2415  2020-02-03  673.690002  786.140015  673.520020  780.000000  780.000000   \n",
      "\n",
      "        Volume  \n",
      "2411  11788500  \n",
      "2412  17801500  \n",
      "2413  29005700  \n",
      "2414  15719300  \n",
      "2415  47065000  \n",
      "------------- Na -------------\n",
      "Date         0\n",
      "Open         0\n",
      "High         0\n",
      "Low          0\n",
      "Close        0\n",
      "Adj Close    0\n",
      "Volume       0\n",
      "dtype: int64\n",
      "------------- Quantiles -------------\n",
      "                    0.00           0.05          0.50          0.95  \\\n",
      "Open           16.139999      23.384999  2.130350e+02  3.519100e+02   \n",
      "High           16.629999      24.022501  2.167450e+02  3.567500e+02   \n",
      "Low            14.980000      22.867499  2.088700e+02  3.460250e+02   \n",
      "Close          15.800000      23.565000  2.129600e+02  3.511675e+02   \n",
      "Adj Close      15.800000      23.565000  2.129600e+02  3.511675e+02   \n",
      "Volume     118500.000000  633825.000000  4.578400e+06  1.476090e+07   \n",
      "\n",
      "                   0.99          1.00  \n",
      "Open       4.235790e+02  6.736900e+02  \n",
      "High       4.284705e+02  7.861400e+02  \n",
      "Low        4.122865e+02  6.735200e+02  \n",
      "Close      4.243455e+02  7.800000e+02  \n",
      "Adj Close  4.243455e+02  7.800000e+02  \n",
      "Volume     2.459959e+07  4.706500e+07  \n"
     ]
    }
   ],
   "source": [
    "check_df(df)"
   ]
  },
  {
   "cell_type": "markdown",
   "id": "8090738a",
   "metadata": {},
   "source": [
    "# 3) Veriyi hazırlama"
   ]
  },
  {
   "cell_type": "raw",
   "id": "e4dc7c40",
   "metadata": {},
   "source": [
    "Date verisi obje veri türünde bizim bunu tarih türünde bir veri olduğunu paythona ifade etmemiz gerekmektedir bu dönüştürme işlemini yapalım."
   ]
  },
  {
   "cell_type": "code",
   "execution_count": 10,
   "id": "22dbe650",
   "metadata": {},
   "outputs": [],
   "source": [
    "# Bu obje tarah veri dönüşümünü ilgili alanları seçip yapıyorum.\n",
    "\n",
    "df[\"Date\"] = pd.to_datetime(df[\"Date\"])"
   ]
  },
  {
   "cell_type": "code",
   "execution_count": 11,
   "id": "bd048078",
   "metadata": {},
   "outputs": [
    {
     "data": {
      "text/html": [
       "<div>\n",
       "<style scoped>\n",
       "    .dataframe tbody tr th:only-of-type {\n",
       "        vertical-align: middle;\n",
       "    }\n",
       "\n",
       "    .dataframe tbody tr th {\n",
       "        vertical-align: top;\n",
       "    }\n",
       "\n",
       "    .dataframe thead th {\n",
       "        text-align: right;\n",
       "    }\n",
       "</style>\n",
       "<table border=\"1\" class=\"dataframe\">\n",
       "  <thead>\n",
       "    <tr style=\"text-align: right;\">\n",
       "      <th></th>\n",
       "      <th>Date</th>\n",
       "      <th>Open</th>\n",
       "      <th>High</th>\n",
       "      <th>Low</th>\n",
       "      <th>Close</th>\n",
       "      <th>Adj Close</th>\n",
       "      <th>Volume</th>\n",
       "    </tr>\n",
       "  </thead>\n",
       "  <tbody>\n",
       "    <tr>\n",
       "      <th>0</th>\n",
       "      <td>2010-06-29</td>\n",
       "      <td>19.000000</td>\n",
       "      <td>25.00</td>\n",
       "      <td>17.540001</td>\n",
       "      <td>23.889999</td>\n",
       "      <td>23.889999</td>\n",
       "      <td>18766300</td>\n",
       "    </tr>\n",
       "    <tr>\n",
       "      <th>1</th>\n",
       "      <td>2010-06-30</td>\n",
       "      <td>25.790001</td>\n",
       "      <td>30.42</td>\n",
       "      <td>23.299999</td>\n",
       "      <td>23.830000</td>\n",
       "      <td>23.830000</td>\n",
       "      <td>17187100</td>\n",
       "    </tr>\n",
       "    <tr>\n",
       "      <th>2</th>\n",
       "      <td>2010-07-01</td>\n",
       "      <td>25.000000</td>\n",
       "      <td>25.92</td>\n",
       "      <td>20.270000</td>\n",
       "      <td>21.959999</td>\n",
       "      <td>21.959999</td>\n",
       "      <td>8218800</td>\n",
       "    </tr>\n",
       "    <tr>\n",
       "      <th>3</th>\n",
       "      <td>2010-07-02</td>\n",
       "      <td>23.000000</td>\n",
       "      <td>23.10</td>\n",
       "      <td>18.709999</td>\n",
       "      <td>19.200001</td>\n",
       "      <td>19.200001</td>\n",
       "      <td>5139800</td>\n",
       "    </tr>\n",
       "    <tr>\n",
       "      <th>4</th>\n",
       "      <td>2010-07-06</td>\n",
       "      <td>20.000000</td>\n",
       "      <td>20.00</td>\n",
       "      <td>15.830000</td>\n",
       "      <td>16.110001</td>\n",
       "      <td>16.110001</td>\n",
       "      <td>6866900</td>\n",
       "    </tr>\n",
       "  </tbody>\n",
       "</table>\n",
       "</div>"
      ],
      "text/plain": [
       "        Date       Open   High        Low      Close  Adj Close    Volume\n",
       "0 2010-06-29  19.000000  25.00  17.540001  23.889999  23.889999  18766300\n",
       "1 2010-06-30  25.790001  30.42  23.299999  23.830000  23.830000  17187100\n",
       "2 2010-07-01  25.000000  25.92  20.270000  21.959999  21.959999   8218800\n",
       "3 2010-07-02  23.000000  23.10  18.709999  19.200001  19.200001   5139800\n",
       "4 2010-07-06  20.000000  20.00  15.830000  16.110001  16.110001   6866900"
      ]
     },
     "execution_count": 11,
     "metadata": {},
     "output_type": "execute_result"
    }
   ],
   "source": [
    "df.head()"
   ]
  },
  {
   "cell_type": "code",
   "execution_count": 12,
   "id": "111a0359",
   "metadata": {},
   "outputs": [],
   "source": [
    "# İlgileneçeğim değişkenlere ilgilenmeye başlıyorum.\n",
    "\n",
    "tesla_df = df[[\"Date\", \"Close\"]]"
   ]
  },
  {
   "cell_type": "code",
   "execution_count": 14,
   "id": "83a5080e",
   "metadata": {},
   "outputs": [
    {
     "data": {
      "text/html": [
       "<div>\n",
       "<style scoped>\n",
       "    .dataframe tbody tr th:only-of-type {\n",
       "        vertical-align: middle;\n",
       "    }\n",
       "\n",
       "    .dataframe tbody tr th {\n",
       "        vertical-align: top;\n",
       "    }\n",
       "\n",
       "    .dataframe thead th {\n",
       "        text-align: right;\n",
       "    }\n",
       "</style>\n",
       "<table border=\"1\" class=\"dataframe\">\n",
       "  <thead>\n",
       "    <tr style=\"text-align: right;\">\n",
       "      <th></th>\n",
       "      <th>Date</th>\n",
       "      <th>Close</th>\n",
       "    </tr>\n",
       "  </thead>\n",
       "  <tbody>\n",
       "    <tr>\n",
       "      <th>0</th>\n",
       "      <td>2010-06-29</td>\n",
       "      <td>23.889999</td>\n",
       "    </tr>\n",
       "    <tr>\n",
       "      <th>1</th>\n",
       "      <td>2010-06-30</td>\n",
       "      <td>23.830000</td>\n",
       "    </tr>\n",
       "    <tr>\n",
       "      <th>2</th>\n",
       "      <td>2010-07-01</td>\n",
       "      <td>21.959999</td>\n",
       "    </tr>\n",
       "    <tr>\n",
       "      <th>3</th>\n",
       "      <td>2010-07-02</td>\n",
       "      <td>19.200001</td>\n",
       "    </tr>\n",
       "    <tr>\n",
       "      <th>4</th>\n",
       "      <td>2010-07-06</td>\n",
       "      <td>16.110001</td>\n",
       "    </tr>\n",
       "  </tbody>\n",
       "</table>\n",
       "</div>"
      ],
      "text/plain": [
       "        Date      Close\n",
       "0 2010-06-29  23.889999\n",
       "1 2010-06-30  23.830000\n",
       "2 2010-07-01  21.959999\n",
       "3 2010-07-02  19.200001\n",
       "4 2010-07-06  16.110001"
      ]
     },
     "execution_count": 14,
     "metadata": {},
     "output_type": "execute_result"
    }
   ],
   "source": [
    "tesla_df.head()"
   ]
  },
  {
   "cell_type": "code",
   "execution_count": 15,
   "id": "189e92dd",
   "metadata": {},
   "outputs": [
    {
     "name": "stdout",
     "output_type": "stream",
     "text": [
      "minumum tarih:  2010-06-29 00:00:00\n",
      "maksimum tarih:  2020-02-03 00:00:00\n"
     ]
    }
   ],
   "source": [
    "# En eski ve en yeni tarihlerin gözlenmesini yapıyorum.\n",
    "\n",
    "print(\"minumum tarih: \", tesla_df[\"Date\"].min())\n",
    "print(\"maksimum tarih: \", tesla_df[\"Date\"].max())"
   ]
  },
  {
   "cell_type": "code",
   "execution_count": 18,
   "id": "70092372",
   "metadata": {},
   "outputs": [],
   "source": [
    "# Date İndex bilgisi olacak şekilde tanımlama yapmam gerekiyor cümki ordan modelime index bilgisi olarak tanımlama yapaçağım.\n",
    "\n",
    "tesla_df.index = tesla_df[\"Date\"]"
   ]
  },
  {
   "cell_type": "code",
   "execution_count": 19,
   "id": "5af2d69d",
   "metadata": {},
   "outputs": [
    {
     "data": {
      "text/html": [
       "<div>\n",
       "<style scoped>\n",
       "    .dataframe tbody tr th:only-of-type {\n",
       "        vertical-align: middle;\n",
       "    }\n",
       "\n",
       "    .dataframe tbody tr th {\n",
       "        vertical-align: top;\n",
       "    }\n",
       "\n",
       "    .dataframe thead th {\n",
       "        text-align: right;\n",
       "    }\n",
       "</style>\n",
       "<table border=\"1\" class=\"dataframe\">\n",
       "  <thead>\n",
       "    <tr style=\"text-align: right;\">\n",
       "      <th></th>\n",
       "      <th>Date</th>\n",
       "      <th>Close</th>\n",
       "    </tr>\n",
       "    <tr>\n",
       "      <th>Date</th>\n",
       "      <th></th>\n",
       "      <th></th>\n",
       "    </tr>\n",
       "  </thead>\n",
       "  <tbody>\n",
       "    <tr>\n",
       "      <th>2010-06-29</th>\n",
       "      <td>2010-06-29</td>\n",
       "      <td>23.889999</td>\n",
       "    </tr>\n",
       "    <tr>\n",
       "      <th>2010-06-30</th>\n",
       "      <td>2010-06-30</td>\n",
       "      <td>23.830000</td>\n",
       "    </tr>\n",
       "    <tr>\n",
       "      <th>2010-07-01</th>\n",
       "      <td>2010-07-01</td>\n",
       "      <td>21.959999</td>\n",
       "    </tr>\n",
       "    <tr>\n",
       "      <th>2010-07-02</th>\n",
       "      <td>2010-07-02</td>\n",
       "      <td>19.200001</td>\n",
       "    </tr>\n",
       "    <tr>\n",
       "      <th>2010-07-06</th>\n",
       "      <td>2010-07-06</td>\n",
       "      <td>16.110001</td>\n",
       "    </tr>\n",
       "  </tbody>\n",
       "</table>\n",
       "</div>"
      ],
      "text/plain": [
       "                 Date      Close\n",
       "Date                            \n",
       "2010-06-29 2010-06-29  23.889999\n",
       "2010-06-30 2010-06-30  23.830000\n",
       "2010-07-01 2010-07-01  21.959999\n",
       "2010-07-02 2010-07-02  19.200001\n",
       "2010-07-06 2010-07-06  16.110001"
      ]
     },
     "execution_count": 19,
     "metadata": {},
     "output_type": "execute_result"
    }
   ],
   "source": [
    "# Burda index bilgisini date olarak tanımlama işlemlerini kontrolünü yapıyorum.\n",
    "\n",
    "tesla_df.head()"
   ]
  },
  {
   "cell_type": "code",
   "execution_count": 22,
   "id": "729a7157",
   "metadata": {},
   "outputs": [],
   "source": [
    "# Değişken olarak kalan date siliyorum.\n",
    "# İşlemi satırlara değil sütünlara yönelik olması için axis değerini 1 atıyorum.\n",
    "# İnplace argumanı ile bu işlemi atama yapmaksızın kalıcı olacak halde tanımlanmasını yapıyorum.\n",
    "\n",
    "tesla_df.drop(\"Date\", axis=1, inplace=True)"
   ]
  },
  {
   "cell_type": "code",
   "execution_count": 23,
   "id": "af678012",
   "metadata": {},
   "outputs": [
    {
     "data": {
      "text/html": [
       "<div>\n",
       "<style scoped>\n",
       "    .dataframe tbody tr th:only-of-type {\n",
       "        vertical-align: middle;\n",
       "    }\n",
       "\n",
       "    .dataframe tbody tr th {\n",
       "        vertical-align: top;\n",
       "    }\n",
       "\n",
       "    .dataframe thead th {\n",
       "        text-align: right;\n",
       "    }\n",
       "</style>\n",
       "<table border=\"1\" class=\"dataframe\">\n",
       "  <thead>\n",
       "    <tr style=\"text-align: right;\">\n",
       "      <th></th>\n",
       "      <th>Close</th>\n",
       "    </tr>\n",
       "    <tr>\n",
       "      <th>Date</th>\n",
       "      <th></th>\n",
       "    </tr>\n",
       "  </thead>\n",
       "  <tbody>\n",
       "    <tr>\n",
       "      <th>2010-06-29</th>\n",
       "      <td>23.889999</td>\n",
       "    </tr>\n",
       "    <tr>\n",
       "      <th>2010-06-30</th>\n",
       "      <td>23.830000</td>\n",
       "    </tr>\n",
       "    <tr>\n",
       "      <th>2010-07-01</th>\n",
       "      <td>21.959999</td>\n",
       "    </tr>\n",
       "    <tr>\n",
       "      <th>2010-07-02</th>\n",
       "      <td>19.200001</td>\n",
       "    </tr>\n",
       "    <tr>\n",
       "      <th>2010-07-06</th>\n",
       "      <td>16.110001</td>\n",
       "    </tr>\n",
       "    <tr>\n",
       "      <th>...</th>\n",
       "      <td>...</td>\n",
       "    </tr>\n",
       "    <tr>\n",
       "      <th>2020-01-28</th>\n",
       "      <td>566.900024</td>\n",
       "    </tr>\n",
       "    <tr>\n",
       "      <th>2020-01-29</th>\n",
       "      <td>580.989990</td>\n",
       "    </tr>\n",
       "    <tr>\n",
       "      <th>2020-01-30</th>\n",
       "      <td>640.809998</td>\n",
       "    </tr>\n",
       "    <tr>\n",
       "      <th>2020-01-31</th>\n",
       "      <td>650.570007</td>\n",
       "    </tr>\n",
       "    <tr>\n",
       "      <th>2020-02-03</th>\n",
       "      <td>780.000000</td>\n",
       "    </tr>\n",
       "  </tbody>\n",
       "</table>\n",
       "<p>2416 rows × 1 columns</p>\n",
       "</div>"
      ],
      "text/plain": [
       "                 Close\n",
       "Date                  \n",
       "2010-06-29   23.889999\n",
       "2010-06-30   23.830000\n",
       "2010-07-01   21.959999\n",
       "2010-07-02   19.200001\n",
       "2010-07-06   16.110001\n",
       "...                ...\n",
       "2020-01-28  566.900024\n",
       "2020-01-29  580.989990\n",
       "2020-01-30  640.809998\n",
       "2020-01-31  650.570007\n",
       "2020-02-03  780.000000\n",
       "\n",
       "[2416 rows x 1 columns]"
      ]
     },
     "execution_count": 23,
     "metadata": {},
     "output_type": "execute_result"
    }
   ],
   "source": [
    "tesla_df"
   ]
  },
  {
   "cell_type": "code",
   "execution_count": 24,
   "id": "24449b11",
   "metadata": {},
   "outputs": [],
   "source": [
    "# İlerde kıyaslama yapmak için lazım olacağındn bunun bir kopyasını alma işlemini yapıyorum.\n",
    "\n",
    "result_df = tesla_df.copy()"
   ]
  },
  {
   "cell_type": "code",
   "execution_count": 25,
   "id": "eabc6c34",
   "metadata": {},
   "outputs": [
    {
     "data": {
      "image/png": "[encoded data removed]",
      "text/plain": [
       "<Figure size 1200x600 with 1 Axes>"
      ]
     },
     "metadata": {},
     "output_type": "display_data"
    }
   ],
   "source": [
    "# Şimdi ve hazır olduğuna göre bir görselleştirme işlemi yapalım.\n",
    "\n",
    "plt.figure(figsize=(12,6))\n",
    "plt.plot(tesla_df['Close'], color='blue')\n",
    "plt.ylabel('Stock Pricfe')\n",
    "plt.title('tesla Stock Price')\n",
    "plt.xlabel('Time')\n",
    "plt.show()"
   ]
  },
  {
   "cell_type": "code",
   "execution_count": 26,
   "id": "04d38446",
   "metadata": {},
   "outputs": [],
   "source": [
    "# Şimdi bu variyi numpy arrayine çevirmek gerekmektedir.\n",
    "\n",
    "tesla_df = tesla_df.values  # Bu kod sadece değerleri getirecektir ve sadece numpy array tipinde olacaktır."
   ]
  },
  {
   "cell_type": "code",
   "execution_count": 27,
   "id": "88a717d2",
   "metadata": {},
   "outputs": [
    {
     "ename": "AttributeError",
     "evalue": "'numpy.ndarray' object has no attribute 'head'",
     "output_type": "error",
     "traceback": [
      "\u001b[1;31m---------------------------------------------------------------------------\u001b[0m",
      "\u001b[1;31mAttributeError\u001b[0m                            Traceback (most recent call last)",
      "Cell \u001b[1;32mIn[27], line 1\u001b[0m\n\u001b[1;32m----> 1\u001b[0m tesla_df\u001b[38;5;241m.\u001b[39mhead()\n",
      "\u001b[1;31mAttributeError\u001b[0m: 'numpy.ndarray' object has no attribute 'head'"
     ]
    }
   ],
   "source": [
    "# Artık bu şekilde çalışmaz. Çümkü dateframe olan veri yapısı değişti numpy array oldu.\n",
    "\n",
    "tesla_df.head()"
   ]
  },
  {
   "cell_type": "code",
   "execution_count": 28,
   "id": "6f7e5926",
   "metadata": {},
   "outputs": [
    {
     "data": {
      "text/plain": [
       "array([[23.889999],\n",
       "       [23.83    ],\n",
       "       [21.959999],\n",
       "       [19.200001],\n",
       "       [16.110001]])"
      ]
     },
     "execution_count": 28,
     "metadata": {},
     "output_type": "execute_result"
    }
   ],
   "source": [
    "# Numpy array olan veriyi artık bu şekilde çağırmak gerekmektedir.\n",
    "\n",
    "tesla_df[0:5]"
   ]
  },
  {
   "cell_type": "code",
   "execution_count": 29,
   "id": "8e511667",
   "metadata": {},
   "outputs": [],
   "source": [
    "# Yapay sinir ağlarında veri türünü float32 olarak genelde yapılır bizde bunu bu şekilde yapalım.\n",
    "\n",
    "tesla_df = tesla_df.astype('float32')"
   ]
  },
  {
   "cell_type": "code",
   "execution_count": 31,
   "id": "1ee193b9",
   "metadata": {},
   "outputs": [
    {
     "data": {
      "text/plain": [
       "dtype('float32')"
      ]
     },
     "execution_count": 31,
     "metadata": {},
     "output_type": "execute_result"
    }
   ],
   "source": [
    "# Veri türünde yapılan işlemin uygulandığını görüyorum.\n",
    "\n",
    "tesla_df.dtype"
   ]
  },
  {
   "cell_type": "raw",
   "id": "aa3b9231",
   "metadata": {},
   "source": [
    "# Veri için train-test seti ayrılması yapılmaktadır."
   ]
  },
  {
   "cell_type": "raw",
   "id": "ed3681a7",
   "metadata": {},
   "source": [
    "# Burda önemli bir nokta var eğer zaman serisi bir işlem olmayacaksa ve bu işlem rastgelelik ile yapılıp ayrıla bilir.\n",
    "# Ama zaman serisi olduğunda bizim veriseti içinde geçerli bu rastsallık olmaz çünki. Her değer belli bir zaman indexi vardır. Ve rassalık olmaz."
   ]
  },
  {
   "cell_type": "code",
   "execution_count": 34,
   "id": "c822146f",
   "metadata": {},
   "outputs": [],
   "source": [
    "# Bu işlem için bir fonksyon tanımlamaı yapıyorum.\n",
    "\n",
    "def split_data(dataframe, test_size):                 # Dataframe işlem yapılacağını ve bu işlemi yüzdelik olarak yapılacak işlem olcağını buraya giriyorum.\n",
    "    pos = int(round(len(dataframe) * (1-test_size)))  # Veri setinin boyutu alınmış ve bunun yüzde sekseni alınıp yuvarlama işleminden sonra integer bir değere dönüştürülmüş.\n",
    "    train = dataframe[:pos]                           # Baştan nereye kadar gideçeğimizi belirlenmiş.\n",
    "    test = dataframe[pos:]                            # Gidilecek olrak belirlediğimiz yerden sona doğru girme işlemini belirledim.\n",
    "    return train,test, pos"
   ]
  },
  {
   "cell_type": "code",
   "execution_count": 36,
   "id": "3ab98fb1",
   "metadata": {},
   "outputs": [],
   "source": [
    "train,test, pos = split_data(tesla_df, 0.20)       # Verinin returnleri yazıyorum üç tane ve yüzde 20 bir ayırma işlemi yapıyorum."
   ]
  },
  {
   "cell_type": "code",
   "execution_count": 37,
   "id": "cfbd124d",
   "metadata": {},
   "outputs": [
    {
     "name": "stdout",
     "output_type": "stream",
     "text": [
      "(1933, 1) (483, 1)\n"
     ]
    }
   ],
   "source": [
    "print(train.shape, test.shape)                    # Test ve train veri ayrımından sonra ise verinin şekline balkıyorum."
   ]
  },
  {
   "cell_type": "raw",
   "id": "ae69139d",
   "metadata": {},
   "source": [
    "# Şimdi min max sclaller değişkeini ile close yani kapanış değişkenini 0 ile 1 arasında olacak şekilde atamasını yapıyorum. \n",
    "# Bu işlemi neden yapıyorum temelinde uzaklık yada sinir ağı 'gradient descent' yöntemlerinde değişkenler birbirinden farklı olması yada ölçeğinin fazla olmasından dolayı çıkacak sorunları bertaraf etmek için bu değerleri 0 ile 1 arasında değer alacak şekilde tanımlanır.\n",
    "# Bu problemler performans ile ilgili oluşabilmektedir.\n",
    "# Birden fazla değişken kullanıdığımızda değişkenlerin birbirini ezmemesi için bu yöntemi kullanırız."
   ]
  },
  {
   "cell_type": "code",
   "execution_count": 39,
   "id": "aa1eca79",
   "metadata": {},
   "outputs": [],
   "source": [
    "# Bu işlemi train seti için bu dönüştürmeyi yapıyorum.\n",
    "\n",
    "scaler_train = MinMaxScaler(feature_range = (0,1))"
   ]
  },
  {
   "cell_type": "code",
   "execution_count": 40,
   "id": "7fe61e1e",
   "metadata": {},
   "outputs": [],
   "source": [
    "train = scaler_train.fit_transform(train)"
   ]
  },
  {
   "cell_type": "code",
   "execution_count": 42,
   "id": "2a1eb75c",
   "metadata": {},
   "outputs": [],
   "source": [
    "# Bu işlemi şimid test veri seti için gerçekleştiriyorum.\n",
    "\n",
    "scaler_test = MinMaxScaler(feature_range = (0,1))"
   ]
  },
  {
   "cell_type": "code",
   "execution_count": 43,
   "id": "571da842",
   "metadata": {},
   "outputs": [],
   "source": [
    "test = scaler_test.fit_transform(test)"
   ]
  },
  {
   "cell_type": "code",
   "execution_count": 44,
   "id": "35006650",
   "metadata": {},
   "outputs": [
    {
     "data": {
      "text/plain": [
       "array([[0.02191224],\n",
       "       [0.02174973],\n",
       "       [0.01668472],\n",
       "       [0.0092091 ],\n",
       "       [0.00083966]], dtype=float32)"
      ]
     },
     "execution_count": 44,
     "metadata": {},
     "output_type": "execute_result"
    }
   ],
   "source": [
    "train[0:5]"
   ]
  },
  {
   "cell_type": "code",
   "execution_count": 45,
   "id": "32161ad1",
   "metadata": {},
   "outputs": [
    {
     "data": {
      "text/plain": [
       "array([[0.25685903],\n",
       "       [0.24829045],\n",
       "       [0.25511202],\n",
       "       [0.24978784],\n",
       "       [0.2465767 ]], dtype=float32)"
      ]
     },
     "execution_count": 45,
     "metadata": {},
     "output_type": "execute_result"
    }
   ],
   "source": [
    "test[0:5]"
   ]
  },
  {
   "cell_type": "raw",
   "id": "61fd8b03",
   "metadata": {},
   "source": [
    "# Zaman eti düzeyünün ayarlanması feture ayarlanması.\n",
    "# T anında olan bir durum T-1 anında bir zaman etki edebilir ama LSTM de bu durum farklıdır.\n",
    "# LSTM 1 3, 5, 10, 20 zaman adımı öncesi gibi farklı fetures ayarlanması yapılabilmektedir."
   ]
  },
  {
   "cell_type": "raw",
   "id": "809ced11",
   "metadata": {},
   "source": [
    "# Bir bu proje özelinde kaç adım geriye bakalım zaman serilerinde diye düşünürsek bunu 20 gün olarak bakalım.\n",
    "# Niye yirmi haftanın işlem günü beş gün ve bir ayda 4 hafta var o yüzden."
   ]
  },
  {
   "cell_type": "raw",
   "id": "b4271b07",
   "metadata": {},
   "source": [
    "# Burda dikkat edilmesi gereken konuşudur zamanı o zamana geçmişten en yakın birimin etkisi daha fazla olur. \n",
    "# Yani perşenbe gününde iken bunu etkileyen en fazla durum çarşanba gününde olur.\n",
    "# Perşenbenin gelişi çarşanbadan belli olur :)"
   ]
  },
  {
   "cell_type": "code",
   "execution_count": 49,
   "id": "28643f02",
   "metadata": {},
   "outputs": [],
   "source": [
    "# Zaman periyotlarını tanımlama işlemlerini yapan fonksyon tanımlayalım.\n",
    "\n",
    "def create_features(data, lookback):\n",
    "    X, Y = [], []\n",
    "    for i in range(lookback, len(data)):    # Gidilecek adım ve bu adımın lookback gibi ifadeler range içinde tanımlanıyor.\n",
    "        X.append(data[i-lookback:i,0])      # i ifadeden geriye gidilecek değer çıkarılıyor\n",
    "        Y.append(data[i,0])                 # Aynı işlem burdada tanımlanıyor bağımlı değişken özelinde.\n",
    "    \n",
    "    return np.array(X), np.array(Y)"
   ]
  },
  {
   "cell_type": "code",
   "execution_count": 50,
   "id": "4539834a",
   "metadata": {},
   "outputs": [],
   "source": [
    "# Loocback değerini giriyorum.\n",
    "\n",
    "lookback = 20"
   ]
  },
  {
   "cell_type": "code",
   "execution_count": 53,
   "id": "3ee65523",
   "metadata": {},
   "outputs": [],
   "source": [
    "# Bu fonksyonu train ve test veri setine uygulamasını yapıyorum.\n",
    "\n",
    "X_train, y_train = create_features(train, lookback)\n",
    "\n",
    "X_test, y_test = create_features(test, lookback)"
   ]
  },
  {
   "cell_type": "code",
   "execution_count": 55,
   "id": "1ce30992",
   "metadata": {},
   "outputs": [
    {
     "name": "stdout",
     "output_type": "stream",
     "text": [
      "(1913, 20) (1913,) (463, 20) (463,)\n"
     ]
    }
   ],
   "source": [
    "# şimdi bıyutlarını inceliyorum işlem sonrası.\n",
    "\n",
    "print(X_train.shape, y_train.shape, X_test.shape, y_test.shape)"
   ]
  },
  {
   "cell_type": "code",
   "execution_count": 57,
   "id": "775538e6",
   "metadata": {},
   "outputs": [
    {
     "name": "stdout",
     "output_type": "stream",
     "text": [
      "[[0.02191224 0.02174973 0.01668472 0.0092091  0.00083966 0.\n",
      "  0.00449621 0.00433369 0.0033857  0.00633803 0.01094258 0.011078\n",
      "  0.01310942 0.0165493  0.01218851 0.01197183 0.01408451 0.01486999\n",
      "  0.01394908 0.01286566]\n",
      " [0.02174973 0.01668472 0.0092091  0.00083966 0.         0.00449621\n",
      "  0.00433369 0.0033857  0.00633803 0.01094258 0.011078   0.01310942\n",
      "  0.0165493  0.01218851 0.01197183 0.01408451 0.01486999 0.01394908\n",
      "  0.01286566 0.01332611]\n",
      " [0.01668472 0.0092091  0.00083966 0.         0.00449621 0.00433369\n",
      "  0.0033857  0.00633803 0.01094258 0.011078   0.01310942 0.0165493\n",
      "  0.01218851 0.01197183 0.01408451 0.01486999 0.01394908 0.01286566\n",
      "  0.01332611 0.01232395]\n",
      " [0.0092091  0.00083966 0.         0.00449621 0.00433369 0.0033857\n",
      "  0.00633803 0.01094258 0.011078   0.01310942 0.0165493  0.01218851\n",
      "  0.01197183 0.01408451 0.01486999 0.01394908 0.01286566 0.01332611\n",
      "  0.01232395 0.01121344]\n",
      " [0.00083966 0.         0.00449621 0.00433369 0.0033857  0.00633803\n",
      "  0.01094258 0.011078   0.01310942 0.0165493  0.01218851 0.01197183\n",
      "  0.01408451 0.01486999 0.01394908 0.01286566 0.01332611 0.01232395\n",
      "  0.01121344 0.01386782]]\n",
      "[0.01332611 0.01232395 0.01121344 0.01386782 0.01665764]\n"
     ]
    }
   ],
   "source": [
    "# Şimdi veriyi numpy array formatında bir çıktı olarak bakalım.\n",
    "\n",
    "print(X_train[0:5]) # Burda numpy arrayler varken bağımsız değişkenimde\n",
    "print(y_train[0:5]) # Burda bağımlı değişken yani hisse senedi kapanıç fiyatı var.\n",
    "\n",
    "\n",
    "# Veri grubunda ilgili adımdan 20 adım geriye doğru feature üzertmiş olduk"
   ]
  },
  {
   "cell_type": "raw",
   "id": "dafc6270",
   "metadata": {},
   "source": [
    "# Şimdi LSTM derki beni kullanmak istiyorsan benim uygun görebileçeğim kabul edebileçeğim veri formatında verileri göndermen lazım.\n",
    "# LSTM bizden 3 boyutlu bir veri beklemektedir."
   ]
  },
  {
   "cell_type": "code",
   "execution_count": 58,
   "id": "6fe20b5e",
   "metadata": {},
   "outputs": [
    {
     "name": "stdout",
     "output_type": "stream",
     "text": [
      "(1913, 1, 20) (1913, 1) (463, 1, 20) (463, 1)\n"
     ]
    }
   ],
   "source": [
    "# Nuumpy içindeki reshape kuyllanarak veri setinin üç boyutlu olmasını sağlıyorum.\n",
    "\n",
    "X_train = np.reshape(X_train, (X_train.shape[0], 1, X_train.shape[1]))\n",
    "X_test = np.reshape(X_test, (X_test.shape[0], 1, X_test.shape[1]))\n",
    " \n",
    "y_train = y_train.reshape(-1,1)\n",
    "y_test = y_test.reshape(-1,1)\n",
    "\n",
    "print(X_train.shape, y_train.shape, X_test.shape, y_test.shape)"
   ]
  },
  {
   "cell_type": "markdown",
   "id": "6d670948",
   "metadata": {},
   "source": [
    "# 4) Modelleme"
   ]
  },
  {
   "cell_type": "raw",
   "id": "3eb11cc5",
   "metadata": {},
   "source": [
    "# Şimdi ben öncelikle peş peşe yani katmanlardan oluşacak bir yapı kurmak istiyorum diyorum. o yüzden model sequential kullanıyorum."
   ]
  },
  {
   "cell_type": "code",
   "execution_count": 60,
   "id": "264db744",
   "metadata": {},
   "outputs": [],
   "source": [
    "model = Sequential()"
   ]
  },
  {
   "cell_type": "code",
   "execution_count": 61,
   "id": "b272f04f",
   "metadata": {},
   "outputs": [],
   "source": [
    "# Kuracağım model LSTM modeli olduğu için LSTM modelini ekliyorum.\n",
    "\n",
    "model.add(LSTM(units=50,                                 # Modelin kurulaçağı yapı kaç nörondan olacak onu tanımlıyorum.\n",
    "              activation='relu',                         # Kullanacağım aktivasyon fonksyonunu tanımlıyorum.\n",
    "              input_shape=(X_train.shape[1], lookback))) # Train veri shape tanıtıyorum modele ve lookback kullandığımı ayarlıyorum.\n",
    "\n",
    "# Aşırı öğrenmeyi engellek için dropout kısmını tanımlıyorum.\n",
    "\n",
    "model.add(Dropout(0.2))                                  # Yüzde 20'lik bir tanımlama ayarlıyorum.\n",
    "\n",
    "# Modelin çıkış katmanını eklememiz gerekiyor.\n",
    "\n",
    "model.add(Dense(1))                                      # Kullanıdığım yapı regresyon bari bir yapı olduğundan bir çıkış katmanı var.\n",
    "                                                         # Eğer daha fazla sınıf olsaydı buraya sınıf sayısı kadar nörön eklemeyiydik.\n",
    "  "
   ]
  },
  {
   "cell_type": "code",
   "execution_count": 62,
   "id": "bc9acf3b",
   "metadata": {},
   "outputs": [
    {
     "name": "stdout",
     "output_type": "stream",
     "text": [
      "Model: \"sequential\"\n",
      "_________________________________________________________________\n",
      " Layer (type)                Output Shape              Param #   \n",
      "=================================================================\n",
      " lstm (LSTM)                 (None, 50)                14200     \n",
      "                                                                 \n",
      " dropout (Dropout)           (None, 50)                0         \n",
      "                                                                 \n",
      " dense (Dense)               (None, 1)                 51        \n",
      "                                                                 \n",
      "=================================================================\n",
      "Total params: 14251 (55.67 KB)\n",
      "Trainable params: 14251 (55.67 KB)\n",
      "Non-trainable params: 0 (0.00 Byte)\n",
      "_________________________________________________________________\n"
     ]
    }
   ],
   "source": [
    "# Modelin yapısını gözlemleyelim.\n",
    "\n",
    "model.summary()"
   ]
  },
  {
   "cell_type": "code",
   "execution_count": 67,
   "id": "7d6ada64",
   "metadata": {},
   "outputs": [],
   "source": [
    "# Modelin optimizasyon ve değerlendirme paremetrelerinin tanımlanmasını ayarlıyorum.\n",
    "# Loss mertiğimi ve bu metriği optimize edecek olan fonksyonu tanımlıyorum.\n",
    "\n",
    "model.compile(optimizer='adam', loss='mean_squared_error')"
   ]
  },
  {
   "cell_type": "code",
   "execution_count": 68,
   "id": "dba12722",
   "metadata": {},
   "outputs": [],
   "source": [
    "# Aşırı öğrenmenin önüne geçmek için earstopping ayarını yapıyorum \n",
    "# Bu işlem modelin aşırı öğrenmeye doğru bir süreçte olduğunu anlayıp train işlemini durdurması işlemidir.\n",
    "\n",
    "callbacks = [EarlyStopping(monitor='val_loss', patience=3, verbose=2, mode='min'),  # model gelişşimini takip ederken earlStopping yönteminde val_loss paremetresine bak. Ayrıca validasyon setinde ilerleme olmayınca 3 adım gir bunu tanımlıyorum ve mode min ise minumum değer aradığımı söylüyorum. Verbosu 2 yapmam her iterasyonda bilgi gönder.\n",
    "            ModelCheckpoint(filepath='mymodel.h5', monitor='val_loss', mode='min',  # En iyi Modelin kayıt edileçeği ismi tanımlıyorum. \n",
    "                           save_best_only=True, save_weights_only=False, verbose=2)]# Sedece en iyi modeli kayıt işlemini tanımlıyorum burda. Ama Sadece ağırlıkları değil modeli kayıt et bilgisini veriyorum."
   ]
  },
  {
   "cell_type": "raw",
   "id": "0d511965",
   "metadata": {},
   "source": [
    "# Modelin eğitim basmağı"
   ]
  },
  {
   "cell_type": "code",
   "execution_count": 69,
   "id": "7b44a434",
   "metadata": {},
   "outputs": [
    {
     "name": "stdout",
     "output_type": "stream",
     "text": [
      "Epoch 1/100\n",
      "54/96 [===============>..............] - ETA: 0s - loss: 0.0093      \n",
      "Epoch 1: val_loss improved from inf to 0.00459, saving model to mymodel.h5\n",
      "96/96 [==============================] - 1s 3ms/step - loss: 0.0109 - val_loss: 0.0046\n",
      "Epoch 2/100\n",
      "55/96 [================>.............] - ETA: 0s - loss: 0.0059\n",
      "Epoch 2: val_loss improved from 0.00459 to 0.00404, saving model to mymodel.h5\n",
      "96/96 [==============================] - 0s 1ms/step - loss: 0.0078 - val_loss: 0.0040\n",
      "Epoch 3/100\n",
      "56/96 [================>.............] - ETA: 0s - loss: 0.0046\n",
      "Epoch 3: val_loss improved from 0.00404 to 0.00365, saving model to mymodel.h5\n",
      "96/96 [==============================] - 0s 1ms/step - loss: 0.0064 - val_loss: 0.0036\n",
      "Epoch 4/100\n",
      "55/96 [================>.............] - ETA: 0s - loss: 0.0033\n",
      "Epoch 4: val_loss improved from 0.00365 to 0.00342, saving model to mymodel.h5\n",
      "96/96 [==============================] - 0s 1ms/step - loss: 0.0055 - val_loss: 0.0034\n",
      "Epoch 5/100\n",
      "53/96 [===============>..............] - ETA: 0s - loss: 0.0033\n",
      "Epoch 5: val_loss improved from 0.00342 to 0.00317, saving model to mymodel.h5\n",
      "96/96 [==============================] - 0s 1ms/step - loss: 0.0058 - val_loss: 0.0032\n",
      "Epoch 6/100\n",
      "55/96 [================>.............] - ETA: 0s - loss: 0.0028\n",
      "Epoch 6: val_loss improved from 0.00317 to 0.00294, saving model to mymodel.h5\n",
      "96/96 [==============================] - 0s 1ms/step - loss: 0.0048 - val_loss: 0.0029\n",
      "Epoch 7/100\n",
      "54/96 [===============>..............] - ETA: 0s - loss: 0.0025\n",
      "Epoch 7: val_loss did not improve from 0.00294\n",
      "96/96 [==============================] - 0s 1ms/step - loss: 0.0044 - val_loss: 0.0031\n",
      "Epoch 8/100\n",
      "55/96 [================>.............] - ETA: 0s - loss: 0.0025\n",
      "Epoch 8: val_loss improved from 0.00294 to 0.00289, saving model to mymodel.h5\n",
      "96/96 [==============================] - 0s 2ms/step - loss: 0.0050 - val_loss: 0.0029\n",
      "Epoch 9/100\n",
      "45/96 [=============>................] - ETA: 0s - loss: 0.0013\n",
      "Epoch 9: val_loss improved from 0.00289 to 0.00270, saving model to mymodel.h5\n",
      "96/96 [==============================] - 0s 2ms/step - loss: 0.0048 - val_loss: 0.0027\n",
      "Epoch 10/100\n",
      "56/96 [================>.............] - ETA: 0s - loss: 0.0022\n",
      "Epoch 10: val_loss improved from 0.00270 to 0.00264, saving model to mymodel.h5\n",
      "96/96 [==============================] - 0s 2ms/step - loss: 0.0046 - val_loss: 0.0026\n",
      "Epoch 11/100\n",
      "55/96 [================>.............] - ETA: 0s - loss: 0.0021\n",
      "Epoch 11: val_loss improved from 0.00264 to 0.00236, saving model to mymodel.h5\n",
      "96/96 [==============================] - 0s 2ms/step - loss: 0.0043 - val_loss: 0.0024\n",
      "Epoch 12/100\n",
      "56/96 [================>.............] - ETA: 0s - loss: 0.0020\n",
      "Epoch 12: val_loss did not improve from 0.00236\n",
      "96/96 [==============================] - 0s 1ms/step - loss: 0.0042 - val_loss: 0.0025\n",
      "Epoch 13/100\n",
      "56/96 [================>.............] - ETA: 0s - loss: 0.0026\n",
      "Epoch 13: val_loss did not improve from 0.00236\n",
      "96/96 [==============================] - 0s 1ms/step - loss: 0.0048 - val_loss: 0.0029\n",
      "Epoch 14/100\n",
      "56/96 [================>.............] - ETA: 0s - loss: 0.0025\n",
      "Epoch 14: val_loss did not improve from 0.00236\n",
      "96/96 [==============================] - 0s 1ms/step - loss: 0.0046 - val_loss: 0.0031\n",
      "Epoch 14: early stopping\n"
     ]
    }
   ],
   "source": [
    "history = model.fit(x=X_train,                     # Bağımsız değişken tanımlamasını yapıyorum.\n",
    "                   y=y_train,                      # Bağımlı değişken tanımlamasını yapıyorum.\n",
    "                   epochs=100,                     # Epoch sayısını tanımlıyorum.\n",
    "                   batch_size=20,                  # 20 günlük değerlere bakıyorum o yüzden batch_size 20 tanımlıyorum.\n",
    "                   validation_data=(X_test, y_test),# değerlendirme datasını test datam onu tanımlıyorum.\n",
    "                   callbacks=callbacks,            # ayarladığım geri dönük kaç adım bakacak onu buraya tanımlıyorum.\n",
    "                   shuffle=False)                  # Veride karıştıma yapmak istemiyorum bunuda o yüzden False olrak tanımlıyorum."
   ]
  },
  {
   "cell_type": "raw",
   "id": "7c51c32c",
   "metadata": {},
   "source": [
    "# Aşırı öğrenme düşünce ile earlStoping yapıp işlemi erken bitirdi."
   ]
  },
  {
   "cell_type": "code",
   "execution_count": 72,
   "id": "65d93a7a",
   "metadata": {},
   "outputs": [
    {
     "data": {
      "image/png": "[encoded data removed]",
      "text/plain": [
       "<Figure size 1600x500 with 1 Axes>"
      ]
     },
     "metadata": {},
     "output_type": "display_data"
    }
   ],
   "source": [
    "# Bu işlemin bir grafiğini cizdirelim.\n",
    "\n",
    "# Bu işlemin bir grafiğini cizdirelim.\n",
    "plt.figure(figsize=(16, 5))\n",
    "plt.plot(history.history['loss'], label='Training Loss')\n",
    "plt.plot(history.history['val_loss'], label='Validation Loss')\n",
    "plt.legend(loc='upper right')\n",
    "plt.xlabel('Epoch', fontsize=16)\n",
    "plt.ylabel('Loss', fontsize=16)\n",
    "plt.ylim([0, max(plt.ylim())])\n",
    "plt.title('Training and Validation Loss', fontsize=16)\n",
    "plt.show()"
   ]
  },
  {
   "cell_type": "raw",
   "id": "3b09420b",
   "metadata": {},
   "source": [
    "# Burdaki loss ifadesi gerçek değerler ile tahmin edilen değerlerin çıkralıması ve bu sayının karesi alınması ile ifade edilir.\n",
    "# Hatlar 0.00.. ile ifade edilmesi işlem başında ben bu proje başında standartlaşma yaptığım içn 0-1 arasına çektiğim için."
   ]
  },
  {
   "cell_type": "markdown",
   "id": "eae40cfe",
   "metadata": {},
   "source": [
    "# Değerlendirme"
   ]
  },
  {
   "cell_type": "code",
   "execution_count": 73,
   "id": "7f237406",
   "metadata": {},
   "outputs": [
    {
     "name": "stdout",
     "output_type": "stream",
     "text": [
      "24/24 [==============================] - 0s 783us/step - loss: 0.0031\n",
      "\n",
      "Test Loss : 0.306874%\n"
     ]
    }
   ],
   "source": [
    "# Loss değerimi daha complike görmek için.\n",
    "\n",
    "loss = model.evaluate(X_test, y_test, batch_size=20)\n",
    "print(\"\\nTest Loss : %1f%%\" % (100.0 * loss))"
   ]
  },
  {
   "cell_type": "code",
   "execution_count": null,
   "id": "38063668",
   "metadata": {},
   "outputs": [],
   "source": [
    "# Verilerin anlamk adına inverst transform methodu ile geriye çevirme işlemlerini yapıyorum.\n",
    "# Geriyi gerçek değerlerine çevireceğim analamkj açısından.\n",
    "# çalışmanın başında kopyaladığım gerçek değerler açısından kıyaslama yapaçağım."
   ]
  },
  {
   "cell_type": "raw",
   "id": "baa4de63",
   "metadata": {},
   "source": [
    "# Tahmin işlemi"
   ]
  },
  {
   "cell_type": "code",
   "execution_count": 74,
   "id": "b3e72868",
   "metadata": {},
   "outputs": [
    {
     "name": "stdout",
     "output_type": "stream",
     "text": [
      "60/60 [==============================] - 0s 661us/step\n",
      "15/15 [==============================] - 0s 714us/step\n"
     ]
    }
   ],
   "source": [
    "# Tahim etiriyorum\n",
    "\n",
    "train_predict = model.predict(X_train)\n",
    "test_predict = model.predict(X_test)"
   ]
  },
  {
   "cell_type": "code",
   "execution_count": 75,
   "id": "b93fa0f4",
   "metadata": {},
   "outputs": [],
   "source": [
    "# Şimdi geri dönüştürme işlemi\n",
    "\n",
    "train_predict = scaler_train.inverse_transform(train_predict)\n",
    "test_predict = scaler_test.inverse_transform(test_predict)"
   ]
  },
  {
   "cell_type": "code",
   "execution_count": 76,
   "id": "b6ece478",
   "metadata": {},
   "outputs": [],
   "source": [
    "# Aynı işlemi bağımlı değişlken değerlerim dönüştürüyorum.\n",
    "\n",
    "y_train = scaler_train.inverse_transform(y_train)\n",
    "y_test = scaler_test.inverse_transform(y_test)"
   ]
  },
  {
   "cell_type": "raw",
   "id": "315f11d0",
   "metadata": {},
   "source": [
    "# Elimd bu işlemlerden önceki veriler elimde onlarla karşılaştırma yapıcam ama ondan önce veriler ile karşılaştırıp başarım oranına bakalım."
   ]
  },
  {
   "cell_type": "code",
   "execution_count": 89,
   "id": "f8a98627",
   "metadata": {},
   "outputs": [],
   "source": [
    "# Train ve test veri seti RMSE değeri - Bunu tercih nedeni tahmin başarımını değerlendirme acısından bakıyorum duruma.\n",
    "\n",
    "train_rmse = np.sqrt(mean_squared_error(y_train, train_predict))"
   ]
  },
  {
   "cell_type": "code",
   "execution_count": 91,
   "id": "ad0dde91",
   "metadata": {},
   "outputs": [],
   "source": [
    "# Train ve test veri seti RMSE değeri - Bunu tercih nedeni tahmin başarımını değerlendirme acısından bakıyorum duruma.\n",
    "\n",
    "test_rmse = np.sqrt(mean_squared_error(y_test, test_predict))"
   ]
  },
  {
   "cell_type": "code",
   "execution_count": 93,
   "id": "3d4f3bef",
   "metadata": {},
   "outputs": [
    {
     "name": "stdout",
     "output_type": "stream",
     "text": [
      "TRAİN RMSE : 14.462157249450684\n",
      "TEST RMSE : 33.29477310180664\n"
     ]
    }
   ],
   "source": [
    "# Şimdi bu hata oranlarını gözlemleyelim.\n",
    "\n",
    "print(f\"TRAİN RMSE : {train_rmse}\")\n",
    "print(f\"TEST RMSE : {test_rmse}\")"
   ]
  },
  {
   "cell_type": "raw",
   "id": "89c08c8b",
   "metadata": {},
   "source": [
    "# Tahmini değerlendirelim:\n",
    "    \n",
    "    Burda hata oranım hidde senedi üzerinden 33.29.. dolar hata oranım bulunmakta bu oran nasıl bir oran\n",
    "    Şimid teslanın hisse senedi fiyatını göz önüne bakarsak ertı eksi 33 dolar aslında güzel bir başarım."
   ]
  },
  {
   "cell_type": "code",
   "execution_count": 94,
   "id": "55df4b7e",
   "metadata": {},
   "outputs": [
    {
     "data": {
      "text/html": [
       "<div>\n",
       "<style scoped>\n",
       "    .dataframe tbody tr th:only-of-type {\n",
       "        vertical-align: middle;\n",
       "    }\n",
       "\n",
       "    .dataframe tbody tr th {\n",
       "        vertical-align: top;\n",
       "    }\n",
       "\n",
       "    .dataframe thead th {\n",
       "        text-align: right;\n",
       "    }\n",
       "</style>\n",
       "<table border=\"1\" class=\"dataframe\">\n",
       "  <thead>\n",
       "    <tr style=\"text-align: right;\">\n",
       "      <th></th>\n",
       "      <th>Close</th>\n",
       "      <th>Predicted</th>\n",
       "    </tr>\n",
       "    <tr>\n",
       "      <th>Date</th>\n",
       "      <th></th>\n",
       "      <th></th>\n",
       "    </tr>\n",
       "  </thead>\n",
       "  <tbody>\n",
       "    <tr>\n",
       "      <th>2010-07-28</th>\n",
       "      <td>20.719999</td>\n",
       "      <td>37.912327</td>\n",
       "    </tr>\n",
       "    <tr>\n",
       "      <th>2010-07-29</th>\n",
       "      <td>20.350000</td>\n",
       "      <td>37.912327</td>\n",
       "    </tr>\n",
       "    <tr>\n",
       "      <th>2010-07-30</th>\n",
       "      <td>19.940001</td>\n",
       "      <td>37.912327</td>\n",
       "    </tr>\n",
       "    <tr>\n",
       "      <th>2010-08-02</th>\n",
       "      <td>20.920000</td>\n",
       "      <td>37.912327</td>\n",
       "    </tr>\n",
       "    <tr>\n",
       "      <th>2010-08-03</th>\n",
       "      <td>21.950001</td>\n",
       "      <td>37.912327</td>\n",
       "    </tr>\n",
       "  </tbody>\n",
       "</table>\n",
       "</div>"
      ],
      "text/plain": [
       "                Close  Predicted\n",
       "Date                            \n",
       "2010-07-28  20.719999  37.912327\n",
       "2010-07-29  20.350000  37.912327\n",
       "2010-07-30  19.940001  37.912327\n",
       "2010-08-02  20.920000  37.912327\n",
       "2010-08-03  21.950001  37.912327"
      ]
     },
     "execution_count": 94,
     "metadata": {},
     "output_type": "execute_result"
    }
   ],
   "source": [
    "# Şimid bu tahminleri bir görselleştirelim bakalım.\n",
    "# Bunu yapmadan önce çalışmanın başında aldığım copyanın yanına tahminlerimi ekliyorum tablo görünümüne.\n",
    "# Train seti için yapyorum.\n",
    "\n",
    "train_predict_df = result_df[lookback:pos]\n",
    "train_predict_df[\"Predicted\"] = train_predict\n",
    "train_predict_df.head()"
   ]
  },
  {
   "cell_type": "code",
   "execution_count": 104,
   "id": "f70e43a3",
   "metadata": {},
   "outputs": [
    {
     "data": {
      "image/png": "[encoded data removed]",
      "text/plain": [
       "<Figure size 2000x500 with 1 Axes>"
      ]
     },
     "metadata": {},
     "output_type": "display_data"
    }
   ],
   "source": [
    "# Tahminlerinizi ekleyin\n",
    "train_predict_df = result_df.iloc[lookback:pos].copy()\n",
    "train_predict_df[\"Predicted\"] = train_predict\n",
    "\n",
    "# Gerçek ve tahmin edilen değerleri aynı grafikte gösterin\n",
    "plt.figure(figsize=(20, 5))\n",
    "plt.plot(train_predict_df.index, train_predict_df[\"Close\"], label='Gerçek Değerler')\n",
    "plt.plot(train_predict_df.index, train_predict_df[\"Predicted\"], label='Tahmin Edilen Değerler', linestyle='--')\n",
    "plt.legend(loc='upper right')\n",
    "plt.xlabel('Zaman', fontsize=16)\n",
    "plt.ylabel('Değer', fontsize=16)\n",
    "plt.title('Gerçek ve Tahmin Edilen Değerler', fontsize=16)\n",
    "plt.show()"
   ]
  }
 ],
 "metadata": {
  "kernelspec": {
   "display_name": "Python 3 (ipykernel)",
   "language": "python",
   "name": "python3"
  },
  "language_info": {
   "codemirror_mode": {
    "name": "ipython",
    "version": 3
   },
   "file_extension": ".py",
   "mimetype": "text/x-python",
   "name": "python",
   "nbconvert_exporter": "python",
   "pygments_lexer": "ipython3",
   "version": "3.11.5"
  }
 },
 "nbformat": 4,
 "nbformat_minor": 5
}
